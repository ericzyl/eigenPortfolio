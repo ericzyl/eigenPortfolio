{
 "cells": [
  {
   "cell_type": "markdown",
   "id": "28ef3206",
   "metadata": {},
   "source": [
    "# EigenPortfolio Project"
   ]
  },
  {
   "cell_type": "markdown",
   "id": "c0169eca",
   "metadata": {},
   "source": [
    "## 1. Overview\n",
    "Finance and algorithmic trading heavily use linear algebra. In this project, we will investigate how\n",
    "you can directly create a portfolio (set of allocations for companies in the market) by using the\n",
    "singular value decomposition (SVD) that you learned in class. In essence, we will use the past\n",
    "daily prices for over 1000 companies over a “training” period to generate right singular vectors and\n",
    "normalize these singular vectors to get allocations for each of the 1000 companies over the “test”\n",
    "period.\n",
    "In particular, we outline below how to create these “eigen”-portfolios:\n",
    "1. Import necessary packages and data.\n",
    "2. Pre-process, clean up, and plot the data using pandas and matplotlib.\n",
    "3. Transform the data to use company returns and normalized returns rather than close prices.\n",
    "4. Split the data into a training set and a test set.\n",
    "5. Compute the SVD of the training data (you will complete this portion).\n",
    "6. Plot the SVD to get a sense of the market.\n",
    "7. Compile the SVD into the eigen-portfolios.\n",
    "8. Compute returns and cumulative returns.\n",
    "9. Compute performances of portfolios with the Sharpe ratio.\n",
    "10. Plot performances of best eigen-portfolios.\n",
    "\n",
    "The only aspects of these steps that you need to actually do here will be to compute the SVD and\n",
    "compile the SVD into the eigen-portfolios."
   ]
  },
  {
   "cell_type": "code",
   "execution_count": 2,
   "id": "a2b36519",
   "metadata": {},
   "outputs": [],
   "source": [
    "# import packages\n",
    "import pandas as pd\n",
    "import numpy as np\n",
    "import os\n",
    "import datetime\n",
    "import matplotlib.pyplot as plt\n",
    "%matplotlib inline\n",
    "df_path = 'close_prices.csv'"
   ]
  },
  {
   "cell_type": "markdown",
   "id": "10afef0c",
   "metadata": {},
   "source": [
    "## 2. Uploading data into Google Colaboratory\n",
    "\n",
    "To actually run this jupyter notebook, you can run jupyter notebook on your own computer if you\n",
    "have it set up; however, you may also use Google colaboratory to create and run this notebook.\n",
    "I’ve implemented the first method of how to import the data into google colaboratory. The details\n",
    "are outlined [here](https://towardsdatascience.com/importing-data-to-google-colab-the-clean-way-5ceef9e9e3c8). If you are using Google colaboratory, uncomment the lines of code after the first\n",
    "in the next cell."
   ]
  },
  {
   "cell_type": "code",
   "execution_count": 3,
   "id": "98ae46cd",
   "metadata": {},
   "outputs": [],
   "source": [
    "# only uncomment the next lines if using google colaboratory (takes some time)\n",
    "# import io\n",
    "# from google.colab import files\n",
    "# uploaded = files.upload()\n",
    "# df_path = io.StringIO(uploaded['close_prices.csv']).decode('utf-8')"
   ]
  },
  {
   "cell_type": "markdown",
   "id": "435a382e",
   "metadata": {},
   "source": [
    "## 3. Data Wrangling\n",
    "We clean the data here to make sure that any of the dates we use have at least 500 data points.\n",
    "In particular, we get rid of dates that have too many NaN values. We also transform the dates into\n",
    "pandas datetime indices to be able to easily manage data. We finally take a look at some portion\n",
    "of the dataframe."
   ]
  },
  {
   "cell_type": "code",
   "execution_count": 5,
   "id": "93f61f27",
   "metadata": {},
   "outputs": [
    {
     "data": {
      "text/html": [
       "<div>\n",
       "<style scoped>\n",
       "    .dataframe tbody tr th:only-of-type {\n",
       "        vertical-align: middle;\n",
       "    }\n",
       "\n",
       "    .dataframe tbody tr th {\n",
       "        vertical-align: top;\n",
       "    }\n",
       "\n",
       "    .dataframe thead th {\n",
       "        text-align: right;\n",
       "    }\n",
       "</style>\n",
       "<table border=\"1\" class=\"dataframe\">\n",
       "  <thead>\n",
       "    <tr style=\"text-align: right;\">\n",
       "      <th></th>\n",
       "      <th>AAIC</th>\n",
       "      <th>AAL</th>\n",
       "      <th>AAON</th>\n",
       "      <th>AAP</th>\n",
       "      <th>AAPL</th>\n",
       "      <th>AB</th>\n",
       "      <th>ABB</th>\n",
       "      <th>ABBV</th>\n",
       "      <th>ABC</th>\n",
       "      <th>ABCB</th>\n",
       "      <th>...</th>\n",
       "      <th>Y</th>\n",
       "      <th>YELL</th>\n",
       "      <th>YNDX</th>\n",
       "      <th>YPF</th>\n",
       "      <th>YUM</th>\n",
       "      <th>ZBH</th>\n",
       "      <th>ZBRA</th>\n",
       "      <th>ZD</th>\n",
       "      <th>ZION</th>\n",
       "      <th>ZTS</th>\n",
       "    </tr>\n",
       "    <tr>\n",
       "      <th>date</th>\n",
       "      <th></th>\n",
       "      <th></th>\n",
       "      <th></th>\n",
       "      <th></th>\n",
       "      <th></th>\n",
       "      <th></th>\n",
       "      <th></th>\n",
       "      <th></th>\n",
       "      <th></th>\n",
       "      <th></th>\n",
       "      <th></th>\n",
       "      <th></th>\n",
       "      <th></th>\n",
       "      <th></th>\n",
       "      <th></th>\n",
       "      <th></th>\n",
       "      <th></th>\n",
       "      <th></th>\n",
       "      <th></th>\n",
       "      <th></th>\n",
       "      <th></th>\n",
       "    </tr>\n",
       "  </thead>\n",
       "  <tbody>\n",
       "    <tr>\n",
       "      <th>1999-11-01</th>\n",
       "      <td>17.215847</td>\n",
       "      <td>NaN</td>\n",
       "      <td>0.963988</td>\n",
       "      <td>NaN</td>\n",
       "      <td>0.595872</td>\n",
       "      <td>5.832890</td>\n",
       "      <td>NaN</td>\n",
       "      <td>NaN</td>\n",
       "      <td>2.646925</td>\n",
       "      <td>5.628370</td>\n",
       "      <td>...</td>\n",
       "      <td>150.909670</td>\n",
       "      <td>108830.902945</td>\n",
       "      <td>NaN</td>\n",
       "      <td>11.167411</td>\n",
       "      <td>4.896850</td>\n",
       "      <td>NaN</td>\n",
       "      <td>11.712591</td>\n",
       "      <td>2.698182</td>\n",
       "      <td>40.477164</td>\n",
       "      <td>NaN</td>\n",
       "    </tr>\n",
       "    <tr>\n",
       "      <th>1999-11-02</th>\n",
       "      <td>18.253337</td>\n",
       "      <td>NaN</td>\n",
       "      <td>0.995558</td>\n",
       "      <td>NaN</td>\n",
       "      <td>0.616062</td>\n",
       "      <td>6.378645</td>\n",
       "      <td>NaN</td>\n",
       "      <td>NaN</td>\n",
       "      <td>2.621790</td>\n",
       "      <td>5.602393</td>\n",
       "      <td>...</td>\n",
       "      <td>151.699773</td>\n",
       "      <td>108438.483824</td>\n",
       "      <td>NaN</td>\n",
       "      <td>11.073691</td>\n",
       "      <td>4.821997</td>\n",
       "      <td>NaN</td>\n",
       "      <td>11.341362</td>\n",
       "      <td>2.541675</td>\n",
       "      <td>41.676538</td>\n",
       "      <td>NaN</td>\n",
       "    </tr>\n",
       "    <tr>\n",
       "      <th>1999-11-03</th>\n",
       "      <td>18.026386</td>\n",
       "      <td>NaN</td>\n",
       "      <td>1.009507</td>\n",
       "      <td>NaN</td>\n",
       "      <td>0.625658</td>\n",
       "      <td>6.289377</td>\n",
       "      <td>NaN</td>\n",
       "      <td>NaN</td>\n",
       "      <td>2.536717</td>\n",
       "      <td>5.576416</td>\n",
       "      <td>...</td>\n",
       "      <td>151.897299</td>\n",
       "      <td>110400.579430</td>\n",
       "      <td>NaN</td>\n",
       "      <td>11.020973</td>\n",
       "      <td>4.738693</td>\n",
       "      <td>NaN</td>\n",
       "      <td>11.142843</td>\n",
       "      <td>2.541675</td>\n",
       "      <td>41.162521</td>\n",
       "      <td>NaN</td>\n",
       "    </tr>\n",
       "    <tr>\n",
       "      <th>1999-11-04</th>\n",
       "      <td>18.447866</td>\n",
       "      <td>NaN</td>\n",
       "      <td>0.995558</td>\n",
       "      <td>NaN</td>\n",
       "      <td>0.641933</td>\n",
       "      <td>6.555154</td>\n",
       "      <td>NaN</td>\n",
       "      <td>NaN</td>\n",
       "      <td>2.513515</td>\n",
       "      <td>5.576416</td>\n",
       "      <td>...</td>\n",
       "      <td>150.909670</td>\n",
       "      <td>110008.160309</td>\n",
       "      <td>NaN</td>\n",
       "      <td>10.927252</td>\n",
       "      <td>4.738693</td>\n",
       "      <td>NaN</td>\n",
       "      <td>10.918517</td>\n",
       "      <td>2.579237</td>\n",
       "      <td>41.553174</td>\n",
       "      <td>NaN</td>\n",
       "    </tr>\n",
       "    <tr>\n",
       "      <th>1999-11-05</th>\n",
       "      <td>19.452934</td>\n",
       "      <td>NaN</td>\n",
       "      <td>1.005102</td>\n",
       "      <td>NaN</td>\n",
       "      <td>0.677937</td>\n",
       "      <td>6.620076</td>\n",
       "      <td>NaN</td>\n",
       "      <td>NaN</td>\n",
       "      <td>2.440043</td>\n",
       "      <td>5.576416</td>\n",
       "      <td>...</td>\n",
       "      <td>149.724516</td>\n",
       "      <td>109223.322067</td>\n",
       "      <td>NaN</td>\n",
       "      <td>10.836460</td>\n",
       "      <td>4.882363</td>\n",
       "      <td>NaN</td>\n",
       "      <td>10.906606</td>\n",
       "      <td>2.623059</td>\n",
       "      <td>42.622331</td>\n",
       "      <td>NaN</td>\n",
       "    </tr>\n",
       "  </tbody>\n",
       "</table>\n",
       "<p>5 rows × 1256 columns</p>\n",
       "</div>"
      ],
      "text/plain": [
       "                 AAIC  AAL      AAON  AAP      AAPL        AB  ABB  ABBV  \\\n",
       "date                                                                       \n",
       "1999-11-01  17.215847  NaN  0.963988  NaN  0.595872  5.832890  NaN   NaN   \n",
       "1999-11-02  18.253337  NaN  0.995558  NaN  0.616062  6.378645  NaN   NaN   \n",
       "1999-11-03  18.026386  NaN  1.009507  NaN  0.625658  6.289377  NaN   NaN   \n",
       "1999-11-04  18.447866  NaN  0.995558  NaN  0.641933  6.555154  NaN   NaN   \n",
       "1999-11-05  19.452934  NaN  1.005102  NaN  0.677937  6.620076  NaN   NaN   \n",
       "\n",
       "                 ABC      ABCB  ...           Y           YELL  YNDX  \\\n",
       "date                            ...                                    \n",
       "1999-11-01  2.646925  5.628370  ...  150.909670  108830.902945   NaN   \n",
       "1999-11-02  2.621790  5.602393  ...  151.699773  108438.483824   NaN   \n",
       "1999-11-03  2.536717  5.576416  ...  151.897299  110400.579430   NaN   \n",
       "1999-11-04  2.513515  5.576416  ...  150.909670  110008.160309   NaN   \n",
       "1999-11-05  2.440043  5.576416  ...  149.724516  109223.322067   NaN   \n",
       "\n",
       "                  YPF       YUM  ZBH       ZBRA        ZD       ZION  ZTS  \n",
       "date                                                                       \n",
       "1999-11-01  11.167411  4.896850  NaN  11.712591  2.698182  40.477164  NaN  \n",
       "1999-11-02  11.073691  4.821997  NaN  11.341362  2.541675  41.676538  NaN  \n",
       "1999-11-03  11.020973  4.738693  NaN  11.142843  2.541675  41.162521  NaN  \n",
       "1999-11-04  10.927252  4.738693  NaN  10.918517  2.579237  41.553174  NaN  \n",
       "1999-11-05  10.836460  4.882363  NaN  10.906606  2.623059  42.622331  NaN  \n",
       "\n",
       "[5 rows x 1256 columns]"
      ]
     },
     "execution_count": 5,
     "metadata": {},
     "output_type": "execute_result"
    }
   ],
   "source": [
    "# import data\n",
    "close_prices = pd.read_csv(df_path)\n",
    "# clean data\n",
    "close_prices['date'] = close_prices['date'].apply(lambda x: x.split()[0])\n",
    "close_prices = close_prices.set_index(['date'])\n",
    "close_prices = close_prices[~close_prices.index.duplicated(keep='first')]\n",
    "close_prices = close_prices[close_prices.isnull().sum(axis=1) < 500]\n",
    "dts = pd.to_datetime(close_prices.index)\n",
    "close_prices.index = dts\n",
    "close_prices.name = 'prices'\n",
    "close_prices.head(5)"
   ]
  },
  {
   "cell_type": "markdown",
   "id": "d9f210ec",
   "metadata": {},
   "source": [
    "## 4. Plotting functionality\n",
    "Just to get a visual idea of the data, we plot the prices for a particular symbol. We will finally plot\n",
    "this for the asset returns later on as well. Take a look at the plot for AAPL."
   ]
  },
  {
   "cell_type": "code",
   "execution_count": 6,
   "id": "cc7ad30d",
   "metadata": {},
   "outputs": [
    {
     "data": {
      "image/png": "[encoded data removed]",
      "text/plain": [
       "<Figure size 432x288 with 1 Axes>"
      ]
     },
     "metadata": {
      "needs_background": "light"
     },
     "output_type": "display_data"
    }
   ],
   "source": [
    "# plotting function\n",
    "def plot_symbol(symbol, df, csum=False):\n",
    "# csum denotes cummulative summation (useful for returns)\n",
    "    yvals = df[symbol]\n",
    "    if csum: yvals = np.cumsum(yvals)\n",
    "    plt.plot(df.index, yvals)\n",
    "    title = symbol + ' ' + df.name\n",
    "    plt.title(title)\n",
    "    \n",
    "# check price chart for\n",
    "plot_symbol('AAPL', close_prices)"
   ]
  },
  {
   "cell_type": "markdown",
   "id": "04763969",
   "metadata": {},
   "source": [
    "## 5. Asset Returns Transform\n",
    "We calculate the returns by the day-to-day percent change of an asset. Once we have the returns,\n",
    "we normalize them by normalizing each individual asset’s mean and standard deviation. Why\n",
    "would we want to normalize the returns in this manner?"
   ]
  },
  {
   "cell_type": "code",
   "execution_count": 8,
   "id": "adefdf16",
   "metadata": {},
   "outputs": [],
   "source": [
    "# calculate the percent change of each asset (pandas as an easy way to do this....)\n",
    "returns = close_prices.pct_change().dropna(axis=0, how='all')\n",
    "normed_returns = (returns - returns.mean())/returns.std()\n",
    "normed_returns = normed_returns.dropna(axis=0, how='all')\n",
    "returns.name = 'returns'\n",
    "normed_returns.name = 'normalized returns'"
   ]
  },
  {
   "cell_type": "code",
   "execution_count": 9,
   "id": "5257b444",
   "metadata": {},
   "outputs": [
    {
     "data": {
      "image/png": "[encoded data removed]",
      "text/plain": [
       "<Figure size 432x288 with 1 Axes>"
      ]
     },
     "metadata": {
      "needs_background": "light"
     },
     "output_type": "display_data"
    }
   ],
   "source": [
    "# plot returns\n",
    "plot_symbol('AMZN', returns, csum=True)"
   ]
  },
  {
   "cell_type": "code",
   "execution_count": 10,
   "id": "d4fea813",
   "metadata": {},
   "outputs": [
    {
     "data": {
      "image/png": "[encoded data removed]",
      "text/plain": [
       "<Figure size 432x288 with 1 Axes>"
      ]
     },
     "metadata": {
      "needs_background": "light"
     },
     "output_type": "display_data"
    }
   ],
   "source": [
    "# plot normalized returns\n",
    "plot_symbol('AMZN', normed_returns, csum=True)"
   ]
  },
  {
   "cell_type": "markdown",
   "id": "991f6313",
   "metadata": {},
   "source": [
    "## 6 Data Preparation\n",
    "In this section, we create a training and test data set."
   ]
  },
  {
   "cell_type": "code",
   "execution_count": 12,
   "id": "c98d5a2d",
   "metadata": {},
   "outputs": [
    {
     "name": "stdout",
     "output_type": "stream",
     "text": [
      "Train dataset: (3747, 1073)\n",
      "Test dataset: (252, 1073)\n"
     ]
    }
   ],
   "source": [
    "# use datetime cut-off for training vs test data set\n",
    "train_end = datetime.datetime(2014, 9, 24)\n",
    "# get training data for normed returns\n",
    "df_train = normed_returns[normed_returns.index <= train_end].copy().dropna(axis=1, how='any')\n",
    "# get test data for normed returns\n",
    "df_test = normed_returns[normed_returns.index > train_end].copy().dropna(axis=1, how='any')\n",
    "df_test = df_test[df_train.columns] # retain same tickers in test data as in training\n",
    "\n",
    "# get training data for regular returns\n",
    "df_raw_train = returns[returns.index <= train_end].copy().dropna(axis=1,how='any')\n",
    "# get test data for regular returns\n",
    "df_raw_test = returns[returns.index > train_end].copy().dropna(axis=1,how='any')\n",
    "df_raw_test = df_raw_test[df_train.columns] # retain same tickers in test data as in training\n",
    "\n",
    "print('Train dataset:', df_train.shape)\n",
    "print('Test dataset:', df_test.shape)"
   ]
  },
  {
   "cell_type": "markdown",
   "id": "72c3e3b2",
   "metadata": {},
   "source": [
    "## 7. Computing SVD of training data\n",
    "\n",
    "Consider our training data matrix as an $T \\times N$ matrix $X$ with $N$ samples (our tickers) and $T$ variables (our dates). If we assume that $X$ is normalized as we have done above, we can calculate the empirical correlation matrix of our data by\n",
    "\n",
    "$$C = \\frac{1}{T-1}X^TX \\in \\mathbb{R}^{N\\times N}$$\n",
    "\n",
    "with eigendecomposition $C = VLV^T$. The eigenvectors of $C$ should tell us how the stocks correlate to each other. Notice, however, that the eigenvectors $V$ of $C$ are just the right singular vectors of $X = U\\Sigma V^T$. This means that we only need to compute the SVD of our data to be able to investigate the correlation of the stocks. Let’s calculate the SVD using [numpy](https://numpy.org/doc/stable/reference/generated/numpy.linalg.svd.html). Call the right singular vectors $v$ for `df_train` and `v_raw` for `df_raw_train`.\n",
    "\n",
    "After gathering the singular vectors, we proceed to create a scatter plot of the singular vectors. Try to plot different singular vectors and comment on the behavior of the singular vectors for the normalized vs raw return SVDs."
   ]
  },
  {
   "cell_type": "code",
   "execution_count": 13,
   "id": "1a048f74",
   "metadata": {},
   "outputs": [],
   "source": [
    "# calculate SVD here"
   ]
  },
  {
   "cell_type": "code",
   "execution_count": null,
   "id": "98b89863",
   "metadata": {},
   "outputs": [],
   "source": [
    "# plot the\n",
    "def scatter_plot_svd(v, i1=1, i2=2):\n",
    "    fig = plt.figure()\n",
    "    ax = fig.add_subplot(111)\n",
    "    ax.scatter(v[i1,:], v[i2,:])\n",
    "    title = 'Scatter of singular vectors'\n",
    "    ax.set_title(title)\n",
    "    ax.set_xlabel('singular vector '+str(i1))\n",
    "    ax.set_ylabel('singular vector '+str(i2))\n",
    "    \n",
    "scatter_plot_svd(v, 2, 3)\n",
    "scatter_plot_svd(v_raw, 2, 3)"
   ]
  },
  {
   "cell_type": "markdown",
   "id": "69b56402",
   "metadata": {},
   "source": [
    "## 8. Generate portfolios by normalizing\n",
    "\n",
    "We will define the $j$th eigenportfolio $Q^{(j)}$ by simply the normalized $j$th right singular vector $v^{(j)}$ so that the resultant $Q^{(j)}$ sums to 1. In particular, compute\n",
    "\n",
    "$$Q^{(j)} = \\frac{1}{\\sum_{k=1}^N v_k^{(j)}} v^{(j)}$$\n",
    "\n",
    "We do this in the function below and compile the portfolios into a single pandas dataframe."
   ]
  },
  {
   "cell_type": "code",
   "execution_count": null,
   "id": "6ec78216",
   "metadata": {},
   "outputs": [],
   "source": [
    "# function to get all eigenportfolios up to jmax\n",
    "def j_eigPortfolio(s_vecs, tickers=df_train.columns):\n",
    "    # make empty portfolio list\n",
    "    portfolios = []\n",
    "    for j in range(len(tickers)):\n",
    "        # normalize singular vector to sum to 1\n",
    "        # calculate the jth eigenportfolio and call it j_port\n",
    "        \n",
    "        j_port = pd.DataFrame(j_port,index=tickers, columns=['Q_'+str(j+1)])\n",
    "        portfolios.append(j_port)\n",
    "    portfolios = pd.concat(portfolios, axis=1)\n",
    "    return portfolios\n",
    "\n",
    "portfolios_svd = j_eigPortfolio(v) # SVD portfolio computed from normalized returns\n",
    "portfolios_svd_raw = j_eigPortfolio(v_raw) # SVD portfolio computed from raw returns"
   ]
  },
  {
   "cell_type": "code",
   "execution_count": null,
   "id": "c30dfa71",
   "metadata": {},
   "outputs": [],
   "source": [
    "# view data\n",
    "display(portfolios_svd_raw.head(10))\n",
    "display(portfolios_svd.head(10))"
   ]
  },
  {
   "cell_type": "markdown",
   "id": "2d988c25",
   "metadata": {},
   "source": [
    "## 9 Compute performance of eigenportfolios\n",
    "\n",
    "### 9.1 Compute returns and cumulative returns\n",
    "We will simply compute the dot product of each eigenportfolio weight with how each stock performed for the test data. This is easily done by using `.dot` for a pandas dataframe. Afterwards,we can compute the cumulative returns by just using the pandas function `.cumsum()`. We will consider 3 portfolio performances:\n",
    "\n",
    "1. normalized returns training data portfolio performance on the normalized returns test data.\n",
    "2. raw returns training data portfolio performance on the raw returns test data.\n",
    "3. normalized returns training data portfolio performance on the raw returns test data."
   ]
  },
  {
   "cell_type": "code",
   "execution_count": null,
   "id": "86a7a9b3",
   "metadata": {},
   "outputs": [],
   "source": [
    "# use df.dot from pandas to do this\n",
    "# SVD returns\n",
    "svd_rets = df_test.dot(portfolios_svd) # norm_return train vs norm_return\n",
    "svd_rets_raw = df_raw_test.dot(portfolios_svd_raw) # raw_return train vs raw_return test\n",
    "svd_rets_prime = df_raw_test.dot(portfolios_svd) # norm_return train vs raw_return test\n",
    "\n",
    "# SVD cumulative returns\n",
    "c_svd_rets = svd_rets.cumsum()\n",
    "c_svd_rets_raw = svd_rets_raw.cumsum()\n",
    "c_svd_rets_prime = svd_rets_prime.cumsum()"
   ]
  },
  {
   "cell_type": "markdown",
   "id": "2db7350c",
   "metadata": {},
   "source": [
    "### 9.2 Performance metrics with Sharpe Ratio\n",
    "When looking for a good investment, we want **positive** steady returns. We can think of the positive returns aspect as a positive average return whilst the **steady** returns aspect can be thought of as having low variance in the returns. This idea gives rise to the Sharpe ratio $\\frac{\\mu}{\\sigma}$, a common method to measure the profitability of a trading strategy, which is essentially the mean\n",
    "divided by the standard deviation.\n",
    "\n",
    "- A high Sharpe ratio indicates high average returns with low variance (i.e. steady returns).\n",
    "\n",
    "- A low (but positive) Sharpe ratio means positive returns but risky.\n",
    "\n",
    "- A negative Sharpe ratio means negative returns.\n",
    "\n",
    "We will calculate the Sharpe ratios of all the portfolios and order them by the best performing\n",
    "ones."
   ]
  },
  {
   "cell_type": "code",
   "execution_count": null,
   "id": "c57c0187",
   "metadata": {},
   "outputs": [],
   "source": [
    "# sharpe ratio calculations\n",
    "def sharpe_ratio(ts_returns):\n",
    "    \"\"\"\n",
    "    sharpe_ratio - Calculates annualized return, annualized vol, and annualized sharpe ratio,\n",
    "    where sharpe ratio is defined as annualized return divided by annualized volatility \n",
    "    Arguments: ts_returns - pd.Series of returns of a single eigen portfolio\n",
    "    \"\"\"\n",
    "    annualized_return = 0.\n",
    "    annualized_vol = 0.\n",
    "    annualized_sharpe = 0.\n",
    "    \n",
    "    n_years = ts_returns.shape[0]\n",
    "    ret = ts_returns.mean()\n",
    "    ret.name = 'mean returns'\n",
    "    tot_rets = ts_returns.sum()\n",
    "    tot_rets.name = 'cumulative returns'\n",
    "    vol = ts_returns.std()\n",
    "    vol.name = 'vol'\n",
    "    sharpe = ret / vol\n",
    "    sharpe.name = 'sharpe'\n",
    "    out_df = pd.concat([ret, tot_rets ,vol,sharpe],axis=1)\n",
    "    \n",
    "    return out_df\n",
    "\n",
    "# svd sharpe ratios\n",
    "svd_sharpe = sharpe_ratio(svd_rets).sort_values(by=['sharpe'], ascending=False)\n",
    "svd_raw_sharpe = sharpe_ratio(svd_rets_raw).sort_values(by=['sharpe'],ascending=False)\n",
    "svd_prime_sharpe = sharpe_ratio(svd_rets_prime).sort_values(by=['sharpe'],ascending=False)"
   ]
  },
  {
   "cell_type": "markdown",
   "id": "d78938cf",
   "metadata": {},
   "source": [
    "Take a look at the top 5 performing portfolios from each section."
   ]
  },
  {
   "cell_type": "code",
   "execution_count": null,
   "id": "a7271029",
   "metadata": {},
   "outputs": [],
   "source": [
    "print('SVD sharpe')\n",
    "display(svd_sharpe.head(5))\n",
    "print('SVD raw sharpe')\n",
    "display(svd_raw_sharpe.head(5))\n",
    "print('SVD prime sharpe')\n",
    "display(svd_prime_sharpe.head(5))"
   ]
  },
  {
   "cell_type": "markdown",
   "id": "45a4230b",
   "metadata": {},
   "source": [
    "### 9.3 Plotting top portfolios\n",
    "\n",
    "Here we plot the top portfolios of each configuration."
   ]
  },
  {
   "cell_type": "code",
   "execution_count": null,
   "id": "20b36654",
   "metadata": {},
   "outputs": [],
   "source": [
    "def plot_performance(c_rets, indices, title='PCA'):\n",
    "    fig = plt.figure(figsize=(13,7))\n",
    "    ax0 = fig.add_subplot(111)\n",
    "    ax0.plot(c_rets[indices])\n",
    "    title = title+': Portfolio performance'\n",
    "    ax0.set_title(title)\n",
    "    ax0.legend(indices)"
   ]
  },
  {
   "cell_type": "code",
   "execution_count": null,
   "id": "2cc640a1",
   "metadata": {},
   "outputs": [],
   "source": [
    "plot_performance(c_svd_rets, svd_sharpe.head(5).index, title='SVD')\n",
    "plot_performance(c_svd_rets_raw, svd_raw_sharpe.head(5).index, title='SVD raw')\n",
    "plot_performance(c_svd_rets_prime, svd_prime_sharpe.head(5).index, title='SVD prime')"
   ]
  }
 ],
 "metadata": {
  "kernelspec": {
   "display_name": "Python 3 (ipykernel)",
   "language": "python",
   "name": "python3"
  },
  "language_info": {
   "codemirror_mode": {
    "name": "ipython",
    "version": 3
   },
   "file_extension": ".py",
   "mimetype": "text/x-python",
   "name": "python",
   "nbconvert_exporter": "python",
   "pygments_lexer": "ipython3",
   "version": "3.9.12"
  }
 },
 "nbformat": 4,
 "nbformat_minor": 5
}
